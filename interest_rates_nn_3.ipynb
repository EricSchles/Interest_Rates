{
 "cells": [
  {
   "cell_type": "code",
   "execution_count": 1,
   "metadata": {
    "collapsed": false
   },
   "outputs": [],
   "source": [
    "# import packages\n",
    "%matplotlib inline\n",
    "import warnings\n",
    "import numpy as np\n",
    "import pandas as pd\n",
    "from numpy import random\n",
    "from scipy import stats\n",
    "import matplotlib.pyplot as plt\n",
    "import seaborn as sns\n",
    "import Quandl"
   ]
  },
  {
   "cell_type": "markdown",
   "metadata": {},
   "source": [
    "# Predicting 12-Month Rates, using a 30 day window of 3-Month, 6-Month, and Fed Funds Rate"
   ]
  },
  {
   "cell_type": "markdown",
   "metadata": {},
   "source": [
    "## Data Wrangling"
   ]
  },
  {
   "cell_type": "code",
   "execution_count": 2,
   "metadata": {
    "collapsed": true
   },
   "outputs": [],
   "source": [
    "start_date = \"1982-01-04\"\n",
    "end_date = \"2016-03-11\""
   ]
  },
  {
   "cell_type": "code",
   "execution_count": 3,
   "metadata": {
    "collapsed": false
   },
   "outputs": [],
   "source": [
    "# read in Fed Funds Rate, 3-Month, 6-Month, 12-Month Treasury Bill data from Quandl\n",
    "three_month = Quandl.get(\"FRED/DGS3MO\", trim_start=start_date, trim_end=end_date)\n",
    "six_month = Quandl.get(\"FRED/DGS6MO\", trim_start=start_date, trim_end=end_date)\n",
    "twelve_month = Quandl.get(\"FRED/DGS1\", trim_start=start_date, trim_end=end_date)\n",
    "fed_rate = Quandl.get(\"FRED/DFF\", trim_start=start_date, trim_end=end_date)"
   ]
  },
  {
   "cell_type": "code",
   "execution_count": 4,
   "metadata": {
    "collapsed": false
   },
   "outputs": [],
   "source": [
    "# reset indices \n",
    "three_month.reset_index(level=0, inplace=True)\n",
    "six_month.reset_index(level=0, inplace=True)\n",
    "twelve_month.reset_index(level=0, inplace=True)\n",
    "fed_rate.reset_index(level=0, inplace=True)"
   ]
  },
  {
   "cell_type": "code",
   "execution_count": 5,
   "metadata": {
    "collapsed": true
   },
   "outputs": [],
   "source": [
    "# normalize data to heave mean = 0, std = 1\n",
    "three_month['normal'] = (three_month['VALUE'] - three_month['VALUE'].mean(axis=0)) / three_month['VALUE'].std(axis=0, ddof=1)\n",
    "six_month['normal'] = (six_month['VALUE'] - six_month['VALUE'].mean(axis=0)) / six_month['VALUE'].std(axis=0, ddof=1)\n",
    "twelve_month['normal'] = (twelve_month['VALUE'] - twelve_month['VALUE'].mean(axis=0)) / twelve_month['VALUE'].std(axis=0, ddof=1)\n",
    "fed_rate['normal'] = (fed_rate['VALUE'] - fed_rate['VALUE'].mean(axis=0)) / fed_rate['VALUE'].std(axis=0, ddof=1)"
   ]
  },
  {
   "cell_type": "code",
   "execution_count": 6,
   "metadata": {
    "collapsed": false
   },
   "outputs": [],
   "source": [
    "# merge into single DataFrame\n",
    "data = three_month.merge(six_month, on = 'DATE')\n",
    "data = data.merge(twelve_month, on = 'DATE')\n",
    "data = data.merge(fed_rate, on = 'DATE')"
   ]
  },
  {
   "cell_type": "code",
   "execution_count": 7,
   "metadata": {
    "collapsed": true
   },
   "outputs": [],
   "source": [
    "# rename columns\n",
    "data.columns = ['date', '3_rate', '3_norm', '6_rate', '6_norm', '12_rate', '12_norm', 'fed_rate', 'fed_norm']"
   ]
  },
  {
   "cell_type": "code",
   "execution_count": 8,
   "metadata": {
    "collapsed": false
   },
   "outputs": [
    {
     "data": {
      "text/html": [
       "<div>\n",
       "<table border=\"1\" class=\"dataframe\">\n",
       "  <thead>\n",
       "    <tr style=\"text-align: right;\">\n",
       "      <th></th>\n",
       "      <th>date</th>\n",
       "      <th>3_rate</th>\n",
       "      <th>3_norm</th>\n",
       "      <th>6_rate</th>\n",
       "      <th>6_norm</th>\n",
       "      <th>12_rate</th>\n",
       "      <th>12_norm</th>\n",
       "      <th>fed_rate</th>\n",
       "      <th>fed_norm</th>\n",
       "    </tr>\n",
       "  </thead>\n",
       "  <tbody>\n",
       "    <tr>\n",
       "      <th>0</th>\n",
       "      <td>1982-01-04</td>\n",
       "      <td>11.87</td>\n",
       "      <td>2.437347</td>\n",
       "      <td>13.16</td>\n",
       "      <td>2.697099</td>\n",
       "      <td>13.56</td>\n",
       "      <td>2.716456</td>\n",
       "      <td>13.31</td>\n",
       "      <td>2.650399</td>\n",
       "    </tr>\n",
       "    <tr>\n",
       "      <th>1</th>\n",
       "      <td>1982-01-05</td>\n",
       "      <td>12.20</td>\n",
       "      <td>2.541979</td>\n",
       "      <td>13.41</td>\n",
       "      <td>2.773836</td>\n",
       "      <td>13.83</td>\n",
       "      <td>2.797861</td>\n",
       "      <td>12.90</td>\n",
       "      <td>2.527964</td>\n",
       "    </tr>\n",
       "    <tr>\n",
       "      <th>2</th>\n",
       "      <td>1982-01-06</td>\n",
       "      <td>12.16</td>\n",
       "      <td>2.529296</td>\n",
       "      <td>13.46</td>\n",
       "      <td>2.789183</td>\n",
       "      <td>13.91</td>\n",
       "      <td>2.821981</td>\n",
       "      <td>12.12</td>\n",
       "      <td>2.295037</td>\n",
       "    </tr>\n",
       "    <tr>\n",
       "      <th>3</th>\n",
       "      <td>1982-01-07</td>\n",
       "      <td>12.17</td>\n",
       "      <td>2.532467</td>\n",
       "      <td>13.43</td>\n",
       "      <td>2.779975</td>\n",
       "      <td>13.93</td>\n",
       "      <td>2.828011</td>\n",
       "      <td>12.37</td>\n",
       "      <td>2.369693</td>\n",
       "    </tr>\n",
       "    <tr>\n",
       "      <th>4</th>\n",
       "      <td>1982-01-08</td>\n",
       "      <td>11.98</td>\n",
       "      <td>2.472224</td>\n",
       "      <td>13.35</td>\n",
       "      <td>2.755419</td>\n",
       "      <td>13.75</td>\n",
       "      <td>2.773741</td>\n",
       "      <td>12.12</td>\n",
       "      <td>2.295037</td>\n",
       "    </tr>\n",
       "    <tr>\n",
       "      <th>5</th>\n",
       "      <td>1982-01-11</td>\n",
       "      <td>12.49</td>\n",
       "      <td>2.633928</td>\n",
       "      <td>13.84</td>\n",
       "      <td>2.905824</td>\n",
       "      <td>14.31</td>\n",
       "      <td>2.942580</td>\n",
       "      <td>12.64</td>\n",
       "      <td>2.450322</td>\n",
       "    </tr>\n",
       "    <tr>\n",
       "      <th>6</th>\n",
       "      <td>1982-01-12</td>\n",
       "      <td>12.52</td>\n",
       "      <td>2.643440</td>\n",
       "      <td>13.74</td>\n",
       "      <td>2.875129</td>\n",
       "      <td>14.18</td>\n",
       "      <td>2.903385</td>\n",
       "      <td>12.88</td>\n",
       "      <td>2.521991</td>\n",
       "    </tr>\n",
       "    <tr>\n",
       "      <th>7</th>\n",
       "      <td>1982-01-13</td>\n",
       "      <td>12.70</td>\n",
       "      <td>2.700512</td>\n",
       "      <td>13.97</td>\n",
       "      <td>2.945727</td>\n",
       "      <td>14.51</td>\n",
       "      <td>3.002880</td>\n",
       "      <td>12.66</td>\n",
       "      <td>2.456294</td>\n",
       "    </tr>\n",
       "    <tr>\n",
       "      <th>8</th>\n",
       "      <td>1982-01-14</td>\n",
       "      <td>13.17</td>\n",
       "      <td>2.849533</td>\n",
       "      <td>13.91</td>\n",
       "      <td>2.927310</td>\n",
       "      <td>14.41</td>\n",
       "      <td>2.972730</td>\n",
       "      <td>12.75</td>\n",
       "      <td>2.483170</td>\n",
       "    </tr>\n",
       "    <tr>\n",
       "      <th>9</th>\n",
       "      <td>1982-01-15</td>\n",
       "      <td>12.74</td>\n",
       "      <td>2.713194</td>\n",
       "      <td>14.01</td>\n",
       "      <td>2.958005</td>\n",
       "      <td>14.53</td>\n",
       "      <td>3.008910</td>\n",
       "      <td>12.47</td>\n",
       "      <td>2.399556</td>\n",
       "    </tr>\n",
       "  </tbody>\n",
       "</table>\n",
       "</div>"
      ],
      "text/plain": [
       "        date  3_rate    3_norm  6_rate    6_norm  12_rate   12_norm  fed_rate  \\\n",
       "0 1982-01-04   11.87  2.437347   13.16  2.697099    13.56  2.716456     13.31   \n",
       "1 1982-01-05   12.20  2.541979   13.41  2.773836    13.83  2.797861     12.90   \n",
       "2 1982-01-06   12.16  2.529296   13.46  2.789183    13.91  2.821981     12.12   \n",
       "3 1982-01-07   12.17  2.532467   13.43  2.779975    13.93  2.828011     12.37   \n",
       "4 1982-01-08   11.98  2.472224   13.35  2.755419    13.75  2.773741     12.12   \n",
       "5 1982-01-11   12.49  2.633928   13.84  2.905824    14.31  2.942580     12.64   \n",
       "6 1982-01-12   12.52  2.643440   13.74  2.875129    14.18  2.903385     12.88   \n",
       "7 1982-01-13   12.70  2.700512   13.97  2.945727    14.51  3.002880     12.66   \n",
       "8 1982-01-14   13.17  2.849533   13.91  2.927310    14.41  2.972730     12.75   \n",
       "9 1982-01-15   12.74  2.713194   14.01  2.958005    14.53  3.008910     12.47   \n",
       "\n",
       "   fed_norm  \n",
       "0  2.650399  \n",
       "1  2.527964  \n",
       "2  2.295037  \n",
       "3  2.369693  \n",
       "4  2.295037  \n",
       "5  2.450322  \n",
       "6  2.521991  \n",
       "7  2.456294  \n",
       "8  2.483170  \n",
       "9  2.399556  "
      ]
     },
     "execution_count": 8,
     "metadata": {},
     "output_type": "execute_result"
    }
   ],
   "source": [
    "data.head(10)"
   ]
  },
  {
   "cell_type": "markdown",
   "metadata": {},
   "source": [
    "## Window "
   ]
  },
  {
   "cell_type": "code",
   "execution_count": 9,
   "metadata": {
    "collapsed": false
   },
   "outputs": [],
   "source": [
    "index_count = 0\n",
    "\n",
    "# create first entries of the sampling window\n",
    "window_x = (data[['3_norm', '6_norm', 'fed_norm']].values[0:30]).reshape((1,90))\n",
    "window_y = (data[['12_norm']].values[0:30]).reshape((1,30))\n",
    "\n",
    "# iterate through the dataframe and append each successive sampling window\n",
    "for i in xrange(30,8550,30):\n",
    "    temp_x = (data[['3_norm', '6_norm', 'fed_norm']].values[i:i+30]).reshape((1,90))\n",
    "    window_x = np.concatenate((window_x, temp_x))\n",
    "    \n",
    "    temp_y = (data[['12_norm']].values[i:i+30]).reshape((1,30))\n",
    "    window_y = np.concatenate((window_y, temp_y)) \n",
    "\n",
    "    index_count += 1"
   ]
  },
  {
   "cell_type": "code",
   "execution_count": 10,
   "metadata": {
    "collapsed": false
   },
   "outputs": [
    {
     "data": {
      "text/plain": [
       "(285, 90)"
      ]
     },
     "execution_count": 10,
     "metadata": {},
     "output_type": "execute_result"
    }
   ],
   "source": [
    "# print shape of x window\n",
    "window_x.shape"
   ]
  },
  {
   "cell_type": "code",
   "execution_count": 11,
   "metadata": {
    "collapsed": false
   },
   "outputs": [
    {
     "data": {
      "text/plain": [
       "(285, 30)"
      ]
     },
     "execution_count": 11,
     "metadata": {},
     "output_type": "execute_result"
    }
   ],
   "source": [
    "# print shape of y window\n",
    "window_y.shape"
   ]
  },
  {
   "cell_type": "markdown",
   "metadata": {},
   "source": [
    "## Train/Test Split"
   ]
  },
  {
   "cell_type": "code",
   "execution_count": 12,
   "metadata": {
    "collapsed": true
   },
   "outputs": [],
   "source": [
    "# concatenate x's and y's\n",
    "window_x_y = np.concatenate((window_x, window_y), axis=1)"
   ]
  },
  {
   "cell_type": "code",
   "execution_count": 13,
   "metadata": {
    "collapsed": false
   },
   "outputs": [
    {
     "data": {
      "text/plain": [
       "(285, 120)"
      ]
     },
     "execution_count": 13,
     "metadata": {},
     "output_type": "execute_result"
    }
   ],
   "source": [
    "# print final window shape\n",
    "window_x_y.shape"
   ]
  },
  {
   "cell_type": "code",
   "execution_count": 14,
   "metadata": {
    "collapsed": false
   },
   "outputs": [
    {
     "data": {
      "text/plain": [
       "array([[-1.30720101, -1.29015773, -1.2884454 , ..., -1.26030584,\n",
       "        -1.2482459 , -1.25729085],\n",
       "       [ 0.54763431,  0.54539233,  0.45850245, ...,  0.53360894,\n",
       "         0.51551904,  0.48536921],\n",
       "       [ 1.19444868,  1.04878733,  1.2080476 , ...,  1.05520096,\n",
       "         1.04012605,  1.03409608],\n",
       "       ..., \n",
       "       [ 0.53812233,  0.54232285,  0.50030975, ...,  0.54868385,\n",
       "         0.54566887,  0.54868385],\n",
       "       [ 0.31300557,  0.27220846,  0.32710808, ...,  0.28939533,\n",
       "         0.32557512,  0.31653017],\n",
       "       [ 0.22105647,  0.16784608,  0.3032182 , ..., -0.18998694,\n",
       "        -0.17189704, -0.15983711]])"
      ]
     },
     "execution_count": 14,
     "metadata": {},
     "output_type": "execute_result"
    }
   ],
   "source": [
    "# set random seed\n",
    "np.random.seed(3232016)\n",
    "\n",
    "# randomize the order of the window\n",
    "np.random.shuffle(window_x_y)\n",
    "window_x_y"
   ]
  },
  {
   "cell_type": "code",
   "execution_count": 15,
   "metadata": {
    "collapsed": false
   },
   "outputs": [
    {
     "data": {
      "text/plain": [
       "190"
      ]
     },
     "execution_count": 15,
     "metadata": {},
     "output_type": "execute_result"
    }
   ],
   "source": [
    "# determine length for training set\n",
    "train_length = (len(window_x_y)/3)*2\n",
    "train_length"
   ]
  },
  {
   "cell_type": "code",
   "execution_count": 16,
   "metadata": {
    "collapsed": true
   },
   "outputs": [],
   "source": [
    "# allocate train data\n",
    "train_data = window_x_y[:train_length,:]\n",
    "\n",
    "# allocate test data\n",
    "test_data = window_x_y[train_length:,:]"
   ]
  },
  {
   "cell_type": "code",
   "execution_count": 17,
   "metadata": {
    "collapsed": false
   },
   "outputs": [
    {
     "data": {
      "text/plain": [
       "(190, 120)"
      ]
     },
     "execution_count": 17,
     "metadata": {},
     "output_type": "execute_result"
    }
   ],
   "source": [
    "# print train data shape\n",
    "train_data.shape"
   ]
  },
  {
   "cell_type": "code",
   "execution_count": 18,
   "metadata": {
    "collapsed": false
   },
   "outputs": [
    {
     "data": {
      "text/plain": [
       "(95, 120)"
      ]
     },
     "execution_count": 18,
     "metadata": {},
     "output_type": "execute_result"
    }
   ],
   "source": [
    "# print test data shape\n",
    "test_data.shape"
   ]
  },
  {
   "cell_type": "code",
   "execution_count": 19,
   "metadata": {
    "collapsed": true
   },
   "outputs": [],
   "source": [
    "# allocate x and y of train data\n",
    "x_train = train_data[:,:90]\n",
    "y_train = train_data[:,90:]\n",
    "\n",
    "# allocate x and y of test data\n",
    "x_test = test_data[:,:90]\n",
    "y_test = test_data[:,90:]"
   ]
  },
  {
   "cell_type": "markdown",
   "metadata": {},
   "source": [
    "## Neural Network"
   ]
  },
  {
   "cell_type": "code",
   "execution_count": 20,
   "metadata": {
    "collapsed": false,
    "scrolled": false
   },
   "outputs": [
    {
     "name": "stdout",
     "output_type": "stream",
     "text": [
      "epoch: 20000  cost: 0.003784\n",
      "epoch: 40000  cost: 0.002340\n",
      "epoch: 60000  cost: 0.001825\n",
      "epoch: 80000  cost: 0.001640\n",
      "epoch: 100000  cost: 0.001536\n",
      "epoch: 120000  cost: 0.001456\n",
      "epoch: 140000  cost: 0.001391\n",
      "epoch: 160000  cost: 0.001336\n",
      "epoch: 180000  cost: 0.001290\n",
      "epoch: 200000  cost: 0.001251\n"
     ]
    }
   ],
   "source": [
    "from function_approximator import FunctionApproximator\n",
    "\n",
    "# set random seed\n",
    "np.random.seed(3232016)\n",
    "\n",
    "# define the function approximator\n",
    "fa = FunctionApproximator(n_in=90, n_out=30, n_hidden=5)\n",
    "\n",
    "# train the model\n",
    "fa.train(x_train, y_train, learning_rate=0.05, n_epochs=200000, report_frequency=20000)"
   ]
  },
  {
   "cell_type": "code",
   "execution_count": 21,
   "metadata": {
    "collapsed": false
   },
   "outputs": [
    {
     "name": "stdout",
     "output_type": "stream",
     "text": [
      "[ 0.00740019  0.00661333  0.00576211  0.00568934  0.00551399  0.00568799\n",
      "  0.00722347  0.0072308   0.00809735  0.01004717  0.00845746  0.00891079\n",
      "  0.01004649  0.01042547  0.00831443  0.00737781  0.00643864  0.00595698\n",
      "  0.00644466  0.00650928  0.00702151  0.00655789  0.00725199  0.00629665\n",
      "  0.00698591  0.00727624  0.00663656  0.00722564  0.00784526  0.00867688]\n"
     ]
    }
   ],
   "source": [
    "# print mean squared error of test set\n",
    "y_bar = fa.get_y_pred(x_test)\n",
    "print (((y_test - y_bar) ** 2).mean(axis=0))"
   ]
  }
 ],
 "metadata": {
  "kernelspec": {
   "display_name": "Python 2",
   "language": "python",
   "name": "python2"
  },
  "language_info": {
   "codemirror_mode": {
    "name": "ipython",
    "version": 2
   },
   "file_extension": ".py",
   "mimetype": "text/x-python",
   "name": "python",
   "nbconvert_exporter": "python",
   "pygments_lexer": "ipython2",
   "version": "2.7.11"
  }
 },
 "nbformat": 4,
 "nbformat_minor": 0
}
